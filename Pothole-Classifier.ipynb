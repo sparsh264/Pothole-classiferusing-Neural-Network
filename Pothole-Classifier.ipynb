{
 "cells": [
  {
   "cell_type": "markdown",
   "metadata": {},
   "source": [
    "POTHOLE DETECTION MODEL\n"
   ]
  },
  {
   "cell_type": "code",
   "execution_count": 51,
   "metadata": {},
   "outputs": [],
   "source": [
    "import os\n",
    "import cv2"
   ]
  },
  {
   "cell_type": "code",
   "execution_count": 52,
   "metadata": {},
   "outputs": [],
   "source": [
    "o=os.listdir(r'C:\\Users\\DEll\\Downloads\\pothole_image_data\\potholes')\n",
    "loc=r'C:\\Users\\DEll\\Downloads\\pothole_image_data\\potholes'"
   ]
  },
  {
   "cell_type": "code",
   "execution_count": 53,
   "metadata": {},
   "outputs": [],
   "source": [
    "img=os.listdir(loc)"
   ]
  },
  {
   "cell_type": "code",
   "execution_count": 128,
   "metadata": {},
   "outputs": [],
   "source": [
    "# for i in img:\n",
    "#     print(i)\n",
    "#     print('....')\n"
   ]
  },
  {
   "cell_type": "code",
   "execution_count": 130,
   "metadata": {},
   "outputs": [],
   "source": [
    "label=[]\n",
    "for i in (o):\n",
    "    l=i.split(' ')[0]\n",
    "    \n",
    "    \n",
    "    if l=='normal':\n",
    "        label.append(0)\n",
    "    elif l=='pothole':\n",
    "        label.append(1)\n",
    "        #print(i)\n",
    "\n",
    "#print(label)"
   ]
  },
  {
   "cell_type": "code",
   "execution_count": 56,
   "metadata": {},
   "outputs": [
    {
     "data": {
      "text/plain": [
       "969"
      ]
     },
     "execution_count": 56,
     "metadata": {},
     "output_type": "execute_result"
    }
   ],
   "source": [
    "len(label)"
   ]
  },
  {
   "cell_type": "code",
   "execution_count": 60,
   "metadata": {},
   "outputs": [],
   "source": [
    "features\n",
    "feature=[]\n",
    "for i in o:\n",
    "    path=os.path.join(loc,i)\n",
    "    f=cv2.imread(path)#it reads\n",
    "    \n",
    "    f=cv2.resize(f,(75,75))\n",
    "    feature.append(f)"
   ]
  },
  {
   "cell_type": "code",
   "execution_count": 61,
   "metadata": {},
   "outputs": [
    {
     "data": {
      "text/plain": [
       "969"
      ]
     },
     "execution_count": 61,
     "metadata": {},
     "output_type": "execute_result"
    }
   ],
   "source": [
    "len(feature)"
   ]
  },
  {
   "cell_type": "code",
   "execution_count": 14,
   "metadata": {},
   "outputs": [],
   "source": [
    "# ft=np.array(feature)\n",
    "# feature=feature.reshape(-1,75*75*3)"
   ]
  },
  {
   "cell_type": "code",
   "execution_count": 62,
   "metadata": {},
   "outputs": [],
   "source": [
    "import numpy as np\n",
    "ft=np.array(feature)\n",
    "ft=ft/255\n",
    "lt=np.array(label)"
   ]
  },
  {
   "cell_type": "code",
   "execution_count": 131,
   "metadata": {},
   "outputs": [],
   "source": [
    "#print(ft)"
   ]
  },
  {
   "cell_type": "code",
   "execution_count": 64,
   "metadata": {},
   "outputs": [
    {
     "data": {
      "text/plain": [
       "(969,)"
      ]
     },
     "execution_count": 64,
     "metadata": {},
     "output_type": "execute_result"
    }
   ],
   "source": [
    "lt.shape"
   ]
  },
  {
   "cell_type": "code",
   "execution_count": 65,
   "metadata": {},
   "outputs": [],
   "source": [
    "from sklearn.model_selection import train_test_split\n",
    "xtrain,xtest,ytrain,ytest=train_test_split(ft,lt,test_size=0.20)"
   ]
  },
  {
   "cell_type": "code",
   "execution_count": 66,
   "metadata": {},
   "outputs": [],
   "source": [
    "import tensorflow as tf"
   ]
  },
  {
   "cell_type": "code",
   "execution_count": 67,
   "metadata": {},
   "outputs": [],
   "source": [
    "nnet=tf.keras.models.Sequential()\n",
    "nnet.add(tf.keras.layers.Flatten())\n",
    "nnet.add(tf.keras.layers.Dense(128,activation='relu'))\n",
    "nnet.add(tf.keras.layers.Dense(128,activation='relu'))\n",
    "nnet.add(tf.keras.layers.Dense(3,activation='softmax'))\n"
   ]
  },
  {
   "cell_type": "code",
   "execution_count": 68,
   "metadata": {},
   "outputs": [],
   "source": [
    "nnet.compile(optimizer='adam',\n",
    "            loss='sparse_categorical_crossentropy',\n",
    "            metrics=['accuracy'])"
   ]
  },
  {
   "cell_type": "code",
   "execution_count": 69,
   "metadata": {},
   "outputs": [
    {
     "name": "stdout",
     "output_type": "stream",
     "text": [
      "Train on 775 samples\n",
      "Epoch 1/10\n",
      "775/775 [==============================] - 1s 677us/sample - loss: 2.0587 - acc: 0.5677\n",
      "Epoch 2/10\n",
      "775/775 [==============================] - 0s 499us/sample - loss: 0.6950 - acc: 0.7187\n",
      "Epoch 3/10\n",
      "775/775 [==============================] - 0s 483us/sample - loss: 0.5254 - acc: 0.7677\n",
      "Epoch 4/10\n",
      "775/775 [==============================] - 0s 476us/sample - loss: 0.4734 - acc: 0.7858\n",
      "Epoch 5/10\n",
      "775/775 [==============================] - 0s 484us/sample - loss: 0.4063 - acc: 0.8310\n",
      "Epoch 6/10\n",
      "775/775 [==============================] - 0s 486us/sample - loss: 0.3641 - acc: 0.8568\n",
      "Epoch 7/10\n",
      "775/775 [==============================] - 0s 497us/sample - loss: 0.3420 - acc: 0.8645\n",
      "Epoch 8/10\n",
      "775/775 [==============================] - 0s 522us/sample - loss: 0.3562 - acc: 0.8568\n",
      "Epoch 9/10\n",
      "775/775 [==============================] - 0s 486us/sample - loss: 0.4051 - acc: 0.8426\n",
      "Epoch 10/10\n",
      "775/775 [==============================] - 0s 489us/sample - loss: 0.4177 - acc: 0.8219s - loss: 0.3936 - acc: 0.8\n"
     ]
    },
    {
     "data": {
      "text/plain": [
       "<tensorflow.python.keras.callbacks.History at 0x18e03907940>"
      ]
     },
     "execution_count": 69,
     "metadata": {},
     "output_type": "execute_result"
    }
   ],
   "source": [
    "nnet.fit(xtrain,ytrain,epochs=10)"
   ]
  },
  {
   "cell_type": "code",
   "execution_count": 123,
   "metadata": {},
   "outputs": [],
   "source": [
    "pred=nnet.predict(xtest)"
   ]
  },
  {
   "cell_type": "code",
   "execution_count": 124,
   "metadata": {},
   "outputs": [],
   "source": [
    "p=[]\n",
    "for i in range(len(xtest)):\n",
    "    p.append(np.argmax(pred[i]))\n"
   ]
  },
  {
   "cell_type": "code",
   "execution_count": 125,
   "metadata": {},
   "outputs": [],
   "source": [
    "type(xtest)\n",
    "p=np.array(p)"
   ]
  },
  {
   "cell_type": "code",
   "execution_count": 126,
   "metadata": {},
   "outputs": [
    {
     "data": {
      "text/plain": [
       "0.8402061855670103"
      ]
     },
     "execution_count": 126,
     "metadata": {},
     "output_type": "execute_result"
    }
   ],
   "source": [
    "(p==ytest).sum()/len(xtest)"
   ]
  },
  {
   "cell_type": "code",
   "execution_count": 127,
   "metadata": {},
   "outputs": [
    {
     "name": "stdout",
     "output_type": "stream",
     "text": [
      "0\n",
      "no pothole\n"
     ]
    },
    {
     "data": {
      "image/png": "[encoded data removed]",
      "text/plain": [
       "<Figure size 432x288 with 1 Axes>"
      ]
     },
     "metadata": {
      "needs_background": "light"
     },
     "output_type": "display_data"
    }
   ],
   "source": [
    "import matplotlib.pyplot as plt\n",
    "a=p[50]\n",
    "print(a)\n",
    "plt.imshow(xtest[50])\n",
    "if a==1:\n",
    "    print('pothole')\n",
    "else:\n",
    "    print('no pothole')"
   ]
  },
  {
   "cell_type": "code",
   "execution_count": 169,
   "metadata": {},
   "outputs": [],
   "source": [
    "import h5py as h5"
   ]
  },
  {
   "cell_type": "code",
   "execution_count": 1,
   "metadata": {},
   "outputs": [],
   "source": [
    "# from keras.models import load_model\n",
    "# import cv2\n",
    "# import numpy as np\n",
    "\n",
    "# model = load_model(\"mlcv.h5\")\n",
    "\n",
    "# model.compile(loss='sparse_categorical_crossentropy',\n",
    "#               optimizer='adam',\n",
    "#               metrics=['accuracy'])\n",
    "\n",
    "# img = cv2.imread('image.jpg')\n",
    "# img = cv2.resize(img,(320,240))\n",
    "# #img = np.reshape(img,[1,320,240,3])\n",
    "\n",
    "# classes = model.predict_classes(img)\n",
    "\n",
    "# print (classes)"
   ]
  },
  {
   "cell_type": "code",
   "execution_count": 2,
   "metadata": {},
   "outputs": [],
   "source": [
    "# p_addr=r'C:\\Users\\DEll\\Downloads\\pothole_image_data\\output'\n",
    "# p_list=os.listdir(p_addr)\n",
    "# predimage=cv2.imread(p_addr)\n",
    "\n",
    "# plt.imshow(predimage,dtpe=float)\n",
    "# plt.show()\n",
    "# predimage=cv2.resize(predimage,(75,75))\n",
    "# predimage=predimage.reshape((1,75,75,3))\n",
    "# predict_int=np.argmax(nnet.predict(predimage))"
   ]
  },
  {
   "cell_type": "code",
   "execution_count": null,
   "metadata": {},
   "outputs": [],
   "source": []
  },
  {
   "cell_type": "code",
   "execution_count": null,
   "metadata": {},
   "outputs": [],
   "source": [
    "# cv2.imshow('',feature[300])\n",
    "# cv2.waitKey(0)\n",
    "# cv2.destroyAllWindows()"
   ]
  },
  {
   "cell_type": "code",
   "execution_count": null,
   "metadata": {},
   "outputs": [],
   "source": [
    "# import numpy as np\n",
    "# np.array(feature).shape"
   ]
  },
  {
   "cell_type": "code",
   "execution_count": null,
   "metadata": {},
   "outputs": [],
   "source": [
    "# n1='person_0000.jpg'\n",
    "# n2='car_0000.jpg'\n",
    "# n3='motorbike_0000.jpg'"
   ]
  },
  {
   "cell_type": "code",
   "execution_count": null,
   "metadata": {},
   "outputs": [],
   "source": [
    "#n1.split('_')[0]"
   ]
  },
  {
   "cell_type": "code",
   "execution_count": null,
   "metadata": {},
   "outputs": [],
   "source": [
    "# import cv2\n",
    "# img=cv2.VideoCapture(https://192.168.43.1:8080)\n",
    "# status,frame=img.read()\n",
    "# print(status)\n",
    "# print(frame)\n",
    "# cv2.imshow('',frame)\n",
    "# #cv2.imwrite('E:/','img.jpg')\n",
    "\n",
    "# cv2.waitKey(0)\n",
    "# img.release()\n",
    "# cv2.destroyAllWindows()"
   ]
  },
  {
   "cell_type": "code",
   "execution_count": null,
   "metadata": {},
   "outputs": [],
   "source": []
  },
  {
   "cell_type": "code",
   "execution_count": null,
   "metadata": {},
   "outputs": [],
   "source": []
  },
  {
   "cell_type": "code",
   "execution_count": null,
   "metadata": {},
   "outputs": [],
   "source": []
  },
  {
   "cell_type": "code",
   "execution_count": null,
   "metadata": {},
   "outputs": [],
   "source": []
  }
 ],
 "metadata": {
  "kernelspec": {
   "display_name": "Python 3",
   "language": "python",
   "name": "python3"
  },
  "language_info": {
   "codemirror_mode": {
    "name": "ipython",
    "version": 3
   },
   "file_extension": ".py",
   "mimetype": "text/x-python",
   "name": "python",
   "nbconvert_exporter": "python",
   "pygments_lexer": "ipython3",
   "version": "3.6.9"
  }
 },
 "nbformat": 4,
 "nbformat_minor": 2
}
